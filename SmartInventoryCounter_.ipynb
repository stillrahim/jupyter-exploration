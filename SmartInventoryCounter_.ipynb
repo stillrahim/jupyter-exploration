{
  "nbformat": 4,
  "nbformat_minor": 0,
  "metadata": {
    "colab": {
      "provenance": [],
      "authorship_tag": "ABX9TyPgXrPK/fZqnI1QvTmCVnS0",
      "include_colab_link": true
    },
    "kernelspec": {
      "name": "python3",
      "display_name": "Python 3"
    },
    "language_info": {
      "name": "python"
    }
  },
  "cells": [
    {
      "cell_type": "markdown",
      "metadata": {
        "id": "view-in-github",
        "colab_type": "text"
      },
      "source": [
        "<a href=\"https://colab.research.google.com/github/stillrahim/jupyter-exploration/blob/main/SmartInventoryCounter_.ipynb\" target=\"_parent\"><img src=\"https://colab.research.google.com/assets/colab-badge.svg\" alt=\"Open In Colab\"/></a>"
      ]
    },
    {
      "cell_type": "code",
      "execution_count": null,
      "metadata": {
        "id": "_tojBueaiVhv"
      },
      "outputs": [],
      "source": [
        "# Smart Inventory Counter\n",
        "\n",
        "### 👤 Team Member\n",
        "**Ibrahim Bah**\n",
        "\n",
        "### 🧱 Project Tier\n",
        "**Tier 2 – Moderate Complexity**\n",
        "\n",
        "---\n",
        "\n",
        "## 🧠 Problem Statement\n",
        "Warehouse and retail staff spend hours manually counting and verifying inventory.\n",
        "This process is slow, error-prone, and expensive for companies managing large stock.\n",
        "\n",
        "---\n",
        "\n",
        "## 💡 Solution Overview\n",
        "A **computer vision system** that automatically detects and counts inventory items using camera images.\n",
        "Using **YOLOv8**, the system identifies objects on shelves and generates a real-time item count.\n",
        "\n",
        "---\n",
        "\n",
        "## ⚙️ Technical Approach\n",
        "- **Technique:** Object Detection\n",
        "- **Model:** YOLOv8 (Ultralytics)\n",
        "- **Framework:** PyTorch + Ultralytics\n",
        "- **Why YOLOv8:** High accuracy and real-time performance for item detection tasks.\n",
        "\n",
        "---\n",
        "\n",
        "## 🗂 Dataset Plan\n",
        "- **Source:** Roboflow’s “Retail Product Detection” or “Shelf Object Detection” dataset\n",
        "- **Size:** ~2,000 labeled images\n",
        "- **Labels:** Product types (box, can, bottle, etc.)\n",
        "- **Preparation:** Resize, augment, and split for training/validation.\n",
        "\n",
        "---\n",
        "\n",
        "## 📈 Metrics\n",
        "| Metric Type | Example | Target |\n",
        "|--------------|----------|---------|\n",
        "| Primary Metric | Detection Accuracy (mAP@50) | ≥ 90% |\n",
        "| Secondary Metric | FPS (Frames Per Second) | ≥ 15 FPS |\n",
        "\n",
        "---\n",
        "\n",
        "## 🗓️ Week-by-Week Plan\n",
        "\n",
        "| Week | Task | Milestone |\n",
        "|------|------|------------|\n",
        "| 10 (Oct 30) | Collect dataset & set up environment | Dataset ready |\n",
        "| 11 (Nov 6) | Train / fine-tune YOLOv8 | Model trained |\n",
        "| 12 (Nov 13) | Evaluate & tune performance | 90%+ accuracy |\n",
        "| 13 (Nov 20) | Build simple dashboard or demo | Demo ready |\n",
        "| 14 (Nov 27) | Final testing & documentation | Project complete |\n",
        "| 15 (Dec 4) | Presentation | 🎉 Done |\n",
        "\n",
        "---\n",
        "\n",
        "## 🚧 Challenges & Mitigation\n",
        "\n",
        "| Risk | Probability | Mitigation |\n",
        "|------|--------------|-------------|\n",
        "| Limited data | Medium | Use Roboflow datasets |\n",
        "| Low accuracy | Medium | Augment data, tune hyperparams |\n",
        "| Colab GPU li\n"
      ]
    },
    {
      "cell_type": "code",
      "source": [
        "ultralytics\n",
        "torch\n",
        "opencv-python\n",
        "numpy\n",
        "matplotlib\n",
        "roboflow\n"
      ],
      "metadata": {
        "id": "H3ZKAxXmiW1V"
      },
      "execution_count": null,
      "outputs": []
    },
    {
      "cell_type": "code",
      "source": [
        "# 🔧 Install dependencies\n",
        "!pip install ultralytics opencv-python roboflow torch matplotlib\n",
        "\n",
        "# 📦 Import libraries\n",
        "from ultralytics import YOLO\n",
        "import cv2\n",
        "import matplotlib.pyplot as plt\n",
        "\n",
        "# 🧠 Load pretrained YOLOv8 model\n",
        "model = YOLO(\"yolov8n.pt\")  # Small model (good for testing)\n",
        "\n",
        "# 🖼️ Test image (replace with your own or dataset sample)\n",
        "image_path = \"https://ultralytics.com/images/zidane.jpg\"\n",
        "\n",
        "# 🚀 Run detection\n",
        "results = model.predict(image_path, save=True)\n",
        "\n",
        "# 📊 Display result\n",
        "plt.imshow(cv2.cvtColor(cv2.imread(results[0].save_dir / results[0].path.name), cv2.COLOR_BGR2RGB))\n",
        "plt.axis(\"off\")\n",
        "plt.show()\n"
      ],
      "metadata": {
        "id": "Yp1FeN3niZUM"
      },
      "execution_count": null,
      "outputs": []
    },
    {
      "cell_type": "code",
      "source": [
        "# Data Information\n",
        "\n",
        "This folder contains dataset details or download links.\n",
        "\n",
        "**Dataset:** Roboflow Retail Product Detection\n",
        "**Link:** [https://universe.roboflow.com/](https://universe.roboflow.com/)\n",
        "**Size:** ~2,000 labeled images\n",
        "**Classes:** Boxes, bottles, cans, and miscellaneous products.\n"
      ],
      "metadata": {
        "id": "6iWd_UhxibpN"
      },
      "execution_count": null,
      "outputs": []
    }
  ]
}