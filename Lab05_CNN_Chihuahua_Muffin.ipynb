{
  "nbformat": 4,
  "nbformat_minor": 0,
  "metadata": {
    "colab": {
      "provenance": [],
      "authorship_tag": "ABX9TyOCYYsI2gQhMSbaFta//u3B",
      "include_colab_link": true
    },
    "kernelspec": {
      "name": "python3",
      "display_name": "Python 3"
    },
    "language_info": {
      "name": "python"
    }
  },
  "cells": [
    {
      "cell_type": "markdown",
      "metadata": {
        "id": "view-in-github",
        "colab_type": "text"
      },
      "source": [
        "<a href=\"https://colab.research.google.com/github/stillrahim/jupyter-exploration/blob/main/Lab05_CNN_Chihuahua_Muffin.ipynb\" target=\"_parent\"><img src=\"https://colab.research.google.com/assets/colab-badge.svg\" alt=\"Open In Colab\"/></a>"
      ]
    },
    {
      "cell_type": "code",
      "execution_count": null,
      "metadata": {
        "id": "ezt52hiiMoAx"
      },
      "outputs": [],
      "source": [
        "# Q1: Platforms used for deploying vCenter servers\n",
        "q1 = \"Which platforms are used for deploying vCenter servers?\"\n",
        "options_q1 = {\n",
        "    \"a\": \"vCenter Server Appliance on ESXi and the Windows server.\",\n",
        "    \"b\": \"The UNIX Server systems and the Windows Server.\",\n",
        "    \"c\": \"vCenter Server Appliance on ESXi and the Linux server.\",\n",
        "    \"d\": \"vCenter Server Appliance on Linux and the Windows server.\"\n",
        "}\n",
        "answer_q1 = \"a\"\n",
        "\n",
        "print(q1)\n",
        "for k,v in options_q1.items():\n",
        "    print(f\"{k}. {v}\")\n",
        "print(\"Correct Answer:\", answer_q1)\n",
        "\n",
        "\n",
        "# Q2: False statement about Platform Services Controller\n",
        "q2 = \"Which of the following is false?\"\n",
        "options_q2 = {\n",
        "    \"a\": \"PSC creates a common license inventory for all vCenter Servers connected to the same PSC with the help of License service.\",\n",
        "    \"b\": \"PSC provisions each ESXi hypervisor with a security certificate using VMware Certificate Authority.\",\n",
        "    \"c\": \"PSC provides authentication services for vSphere components through vCenter Single Sign-On.\",\n",
        "    \"d\": \"PSC provides an interface for managing a deployment using a web browser.\"\n",
        "}\n",
        "answer_q2 = \"d\"\n",
        "\n",
        "print(\"\\n\" + q2)\n",
        "for k,v in options_q2.items():\n",
        "    print(f\"{k}. {v}\")\n",
        "print(\"Correct Answer:\", answer_q2)\n",
        "\n",
        "\n",
        "# Q3: Key components of vCenter Server\n",
        "q3 = \"vCenter Server is composed of which two key components?\"\n",
        "options_q3 = {\n",
        "    \"a\": \"The Platform Operations Controller (POC) and the vCenter Server Group of Services.\",\n",
        "    \"b\": \"The Platform Services Controller (PSC) and the vCenter Server Group of Software.\",\n",
        "    \"c\": \"The Platform Services Controller (PSC) and the vCenter Server Group of Services.\",\n",
        "    \"d\": \"The Platform Facilities Controller (PFC) and the vCenter Server Group of Services.\"\n",
        "}\n",
        "answer_q3 = \"c\"\n",
        "\n",
        "print(\"\\n\" + q3)\n",
        "for k,v in options_q3.items():\n",
        "    print(f\"{k}. {v}\")\n",
        "print(\"Correct Answer:\", answer_q3)\n"
      ]
    },
    {
      "cell_type": "code",
      "source": [],
      "metadata": {
        "id": "Aks3mi2AQrQA"
      },
      "execution_count": null,
      "outputs": []
    }
  ]
}