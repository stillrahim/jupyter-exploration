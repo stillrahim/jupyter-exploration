{
  "nbformat": 4,
  "nbformat_minor": 0,
  "metadata": {
    "colab": {
      "provenance": [],
      "authorship_tag": "ABX9TyMQmVD9wJ3R4NEE50PSbUoW",
      "include_colab_link": true
    },
    "kernelspec": {
      "name": "python3",
      "display_name": "Python 3"
    },
    "language_info": {
      "name": "python"
    }
  },
  "cells": [
    {
      "cell_type": "markdown",
      "metadata": {
        "id": "view-in-github",
        "colab_type": "text"
      },
      "source": [
        "<a href=\"https://colab.research.google.com/github/stillrahim/jupyter-exploration/blob/main/L04_Ibrahim_Bah.ipynb\" target=\"_parent\"><img src=\"https://colab.research.google.com/assets/colab-badge.svg\" alt=\"Open In Colab\"/></a>"
      ]
    },
    {
      "cell_type": "code",
      "execution_count": 1,
      "metadata": {
        "colab": {
          "base_uri": "https://localhost:8080/",
          "height": 106
        },
        "id": "wI8W9d2x2q3D",
        "outputId": "d1979d07-7305-4bbf-95c2-7e570f7db9bc"
      },
      "outputs": [
        {
          "output_type": "error",
          "ename": "SyntaxError",
          "evalue": "invalid syntax (ipython-input-2870179250.py, line 3)",
          "traceback": [
            "\u001b[0;36m  File \u001b[0;32m\"/tmp/ipython-input-2870179250.py\"\u001b[0;36m, line \u001b[0;32m3\u001b[0m\n\u001b[0;31m    **Name:** Ibrahim Bah\u001b[0m\n\u001b[0m    ^\u001b[0m\n\u001b[0;31mSyntaxError\u001b[0m\u001b[0;31m:\u001b[0m invalid syntax\n"
          ]
        }
      ],
      "source": [
        "# Lab 03 – Option B\n",
        "## Focused Image Classification with SVM\n",
        "**Name:** Ibrahim Bah\n",
        "**Course:** ITAI 1378\n",
        "\n",
        "---\n",
        "\n",
        "### Objective\n",
        "In this lab, I will:\n",
        "- Build an image classification system using SVM.\n",
        "- Experiment with different kernels and hyperparameters.\n",
        "- Optimize performance through systematic tuning.\n",
        "- Reflect on the outcomes.\n"
      ]
    },
    {
      "cell_type": "code",
      "source": [
        "# --- Setup ---\n",
        "import numpy as np\n",
        "import matplotlib.pyplot as plt\n",
        "from sklearn import datasets\n",
        "from sklearn.model_selection import train_test_split, GridSearchCV\n",
        "from sklearn.svm import SVC\n",
        "from sklearn.metrics import classification_report, confusion_matrix\n",
        "\n",
        "# Load dataset (digits for simplicity)\n",
        "digits = datasets.load_digits()\n",
        "\n",
        "X = digits.images.reshape((len(digits.images), -1))\n",
        "y = digits.target\n",
        "\n",
        "print(\"Dataset shape:\", X.shape)\n",
        "print(\"Number of classes:\", len(np.unique(y)))\n"
      ],
      "metadata": {
        "colab": {
          "base_uri": "https://localhost:8080/"
        },
        "id": "HZlzI-my3J0u",
        "outputId": "ebcd9fef-72b9-44f2-e06e-7eadd966ec9c"
      },
      "execution_count": 2,
      "outputs": [
        {
          "output_type": "stream",
          "name": "stdout",
          "text": [
            "Dataset shape: (1797, 64)\n",
            "Number of classes: 10\n"
          ]
        }
      ]
    },
    {
      "cell_type": "code",
      "source": [
        "# --- Train/test split ---\n",
        "X_train, X_test, y_train, y_test = train_test_split(\n",
        "    X, y, test_size=0.2, random_state=42, stratify=y\n",
        ")\n",
        "\n",
        "print(\"Training size:\", X_train.shape[0])\n",
        "print(\"Test size:\", X_test.shape[0])\n"
      ],
      "metadata": {
        "colab": {
          "base_uri": "https://localhost:8080/"
        },
        "id": "nMiEWAr33R9X",
        "outputId": "fabaa961-a655-4652-971f-3fe91b722e3b"
      },
      "execution_count": 3,
      "outputs": [
        {
          "output_type": "stream",
          "name": "stdout",
          "text": [
            "Training size: 1437\n",
            "Test size: 360\n"
          ]
        }
      ]
    },
    {
      "cell_type": "code",
      "source": [
        "# --- Baseline SVM (linear kernel) ---\n",
        "linear_svm = SVC(kernel=\"linear\", random_state=42)\n",
        "linear_svm.fit(X_train, y_train)\n",
        "\n",
        "y_pred_linear = linear_svm.predict(X_test)\n",
        "\n",
        "print(\"Classification Report (Linear SVM):\")\n",
        "print(classification_report(y_test, y_pred_linear))\n"
      ],
      "metadata": {
        "colab": {
          "base_uri": "https://localhost:8080/"
        },
        "id": "c3N1MI1h3Xl8",
        "outputId": "d4718665-b801-4e75-c8e7-48679ca27105"
      },
      "execution_count": 4,
      "outputs": [
        {
          "output_type": "stream",
          "name": "stdout",
          "text": [
            "Classification Report (Linear SVM):\n",
            "              precision    recall  f1-score   support\n",
            "\n",
            "           0       1.00      1.00      1.00        36\n",
            "           1       0.92      0.94      0.93        36\n",
            "           2       1.00      1.00      1.00        35\n",
            "           3       1.00      0.97      0.99        37\n",
            "           4       1.00      1.00      1.00        36\n",
            "           5       1.00      1.00      1.00        37\n",
            "           6       1.00      0.97      0.99        36\n",
            "           7       0.97      1.00      0.99        36\n",
            "           8       0.94      0.89      0.91        35\n",
            "           9       0.95      1.00      0.97        36\n",
            "\n",
            "    accuracy                           0.98       360\n",
            "   macro avg       0.98      0.98      0.98       360\n",
            "weighted avg       0.98      0.98      0.98       360\n",
            "\n"
          ]
        }
      ]
    },
    {
      "cell_type": "code",
      "source": [
        "# --- Try different kernels ---\n",
        "kernels = [\"linear\", \"poly\", \"rbf\", \"sigmoid\"]\n",
        "results = {}\n",
        "\n",
        "for k in kernels:\n",
        "    svm = SVC(kernel=k, random_state=42)\n",
        "    svm.fit(X_train, y_train)\n",
        "    acc = svm.score(X_test, y_test)\n",
        "    results[k] = acc\n",
        "\n",
        "results\n"
      ],
      "metadata": {
        "colab": {
          "base_uri": "https://localhost:8080/"
        },
        "id": "XSsb8lyV3cT7",
        "outputId": "b8624960-3b5c-4d37-d6ba-d55a5eadc5e2"
      },
      "execution_count": 5,
      "outputs": [
        {
          "output_type": "execute_result",
          "data": {
            "text/plain": [
              "{'linear': 0.9777777777777777,\n",
              " 'poly': 0.9861111111111112,\n",
              " 'rbf': 0.9916666666666667,\n",
              " 'sigmoid': 0.8861111111111111}"
            ]
          },
          "metadata": {},
          "execution_count": 5
        }
      ]
    },
    {
      "cell_type": "code",
      "source": [
        "# --- Hyperparameter tuning (RBF kernel) ---\n",
        "param_grid = {\n",
        "    \"C\": [0.1, 1, 10],\n",
        "    \"gamma\": [\"scale\", 0.01, 0.001],\n",
        "    \"kernel\": [\"rbf\"]\n",
        "}\n",
        "\n",
        "grid = GridSearchCV(SVC(), param_grid, cv=3, n_jobs=-1, verbose=1)\n",
        "grid.fit(X_train, y_train)\n",
        "\n",
        "print(\"Best Parameters:\", grid.best_params_)\n",
        "print(\"Best Score:\", grid.best_score_)\n",
        "\n",
        "best_svm = grid.best_estimator_\n",
        "y_pred_best = best_svm.predict(X_test)\n",
        "\n",
        "print(\"Classification Report (Best RBF SVM):\")\n",
        "print(classification_report(y_test, y_pred_best))\n"
      ],
      "metadata": {
        "colab": {
          "base_uri": "https://localhost:8080/"
        },
        "id": "z6ZyyPvR3ejH",
        "outputId": "39fa3657-0fbb-4b35-af71-42534d795cd2"
      },
      "execution_count": 6,
      "outputs": [
        {
          "output_type": "stream",
          "name": "stdout",
          "text": [
            "Fitting 3 folds for each of 9 candidates, totalling 27 fits\n",
            "Best Parameters: {'C': 10, 'gamma': 0.001, 'kernel': 'rbf'}\n",
            "Best Score: 0.9888656924147531\n",
            "Classification Report (Best RBF SVM):\n",
            "              precision    recall  f1-score   support\n",
            "\n",
            "           0       1.00      1.00      1.00        36\n",
            "           1       0.97      1.00      0.99        36\n",
            "           2       1.00      1.00      1.00        35\n",
            "           3       1.00      1.00      1.00        37\n",
            "           4       1.00      1.00      1.00        36\n",
            "           5       1.00      1.00      1.00        37\n",
            "           6       1.00      0.97      0.99        36\n",
            "           7       0.97      1.00      0.99        36\n",
            "           8       0.97      0.97      0.97        35\n",
            "           9       1.00      0.97      0.99        36\n",
            "\n",
            "    accuracy                           0.99       360\n",
            "   macro avg       0.99      0.99      0.99       360\n",
            "weighted avg       0.99      0.99      0.99       360\n",
            "\n"
          ]
        }
      ]
    },
    {
      "cell_type": "code",
      "source": [
        "# --- Confusion Matrix ---\n",
        "import seaborn as sns\n",
        "\n",
        "cm = confusion_matrix(y_test, y_pred_best)\n",
        "\n",
        "plt.figure(figsize=(8,6))\n",
        "sns.heatmap(cm, annot=True, fmt=\"d\", cmap=\"Blues\")\n",
        "plt.title(\"Confusion Matrix - Best RBF SVM\")\n",
        "plt.xlabel(\"Predicted\")\n",
        "plt.ylabel(\"Actual\")\n",
        "plt.show()\n"
      ],
      "metadata": {
        "colab": {
          "base_uri": "https://localhost:8080/",
          "height": 564
        },
        "id": "SuQIc09V3hKg",
        "outputId": "5901e4a6-9d52-4f46-f529-47b7ab53cb25"
      },
      "execution_count": 7,
      "outputs": [
        {
          "output_type": "display_data",
          "data": {
            "text/plain": [
              "<Figure size 800x600 with 2 Axes>"
            ],
            "image/png": "[encoded data removed]"
          },
          "metadata": {}
        }
      ]
    }
  ]
}