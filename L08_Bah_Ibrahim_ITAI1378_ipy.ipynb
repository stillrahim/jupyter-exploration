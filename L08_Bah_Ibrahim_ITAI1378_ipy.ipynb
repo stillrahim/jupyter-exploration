{
  "nbformat": 4,
  "nbformat_minor": 0,
  "metadata": {
    "colab": {
      "provenance": [],
      "authorship_tag": "ABX9TyMX2Y2ZcEB9caltV8kftl3R",
      "include_colab_link": true
    },
    "kernelspec": {
      "name": "python3",
      "display_name": "Python 3"
    },
    "language_info": {
      "name": "python"
    }
  },
  "cells": [
    {
      "cell_type": "markdown",
      "metadata": {
        "id": "view-in-github",
        "colab_type": "text"
      },
      "source": [
        "<a href=\"https://colab.research.google.com/github/stillrahim/jupyter-exploration/blob/main/L08_Bah_Ibrahim_ITAI1378_ipy.ipynb\" target=\"_parent\"><img src=\"https://colab.research.google.com/assets/colab-badge.svg\" alt=\"Open In Colab\"/></a>"
      ]
    },
    {
      "cell_type": "code",
      "execution_count": null,
      "metadata": {
        "id": "01fIGYWcxRpV"
      },
      "outputs": [],
      "source": [
        "File Naming Convention\n",
        "File Type\tFormat\tExample\n",
        "Lab Notebook\tL08_LastName_FirstName_ITAI1378.ipynb\tL08_Smith_John_ITAI1378.ipynb\n",
        "🚀 Getting Started\n",
        "Step 1 – Open the Notebook\n",
        "Download Lab 08 VLM_Lab_Exercise.ipynb from Canvas.\n",
        "\n",
        "Open Google ColabLinks to an external site..\n",
        "\n",
        "Upload the notebook and rename it using the file naming rule above.\n",
        "\n",
        "Step 2 – Environment Setup\n",
        "Run the first cell to install all dependencies.\n",
        "\n",
        "Confirm you see “✓ Installation complete” and a device message (either CPU or GPU).\n",
        "\n",
        "If running on CPU → complete Path A.\n",
        " If GPU available → you may choose Path B for the generative version.\n",
        "\n",
        "🧩 Lab Structure and Deliverables\n",
        "Section 1 – Understanding VLM Fundamentals\n",
        "Review how VLMs use a Vision Encoder, Language Model, and Bridge.\n",
        "\n",
        "Write short answers in the provided markdown cells (“Your Answer”).\n",
        "Deliverable: All conceptual questions completed and executed cells.\n",
        "\n",
        "Section 2 – Choose Your Path\n",
        "🧠 Path A ( CLIP – Limited Compute )\n",
        "Experiment 1 – Zero-Shot Classification: Run the code and test your own categories.\n",
        "\n",
        "Experiment 2 – Image Search: Try several text queries and analyze results.\n",
        "\n",
        "Experiment 3 – Embeddings Visualization: Interpret the similarity matrix and answer concept questions.\n",
        "Deliverable: All cells run with visible output and responses to Knowledge Checks.\n",
        "\n",
        "⚡ Path B ( BLIP / BLIP-2 – More Resources )\n",
        "Experiment 1 – Image Captioning: Generate captions and compare with actual COCO captions.\n",
        "\n",
        "Experiment 2 – VQA: Ask custom questions about images and analyze answers.\n",
        "\n",
        "Experiment 3 – Conditional Captioning: Observe how text prompts change results.\n",
        "Deliverable: Executed cells with screenshots or text responses where prompted.\n",
        "\n",
        "Section 3 – Fine-Tuning Concepts\n",
        "Examine model parameters and freezing/unfreezing layers.\n",
        "\n",
        "Observe the contrastive loss example and interpret its purpose.\n",
        "Deliverable: All code executed plus answers to the fine-tuning questions.\n",
        "\n",
        "Section 4 – Evaluation and Metrics\n",
        "For Path A → run Recall@K example.\n",
        "\n",
        "For Path B → run BLEU caption evaluation.\n",
        "\n",
        "Respond to the questions on why different metrics exist and their limitations.\n",
        "Deliverable: Executed output and written analysis in the markdown cells.\n",
        "\n",
        "Section 5 – Applications and Trade-Offs\n",
        "Run the product search demo and cost comparison calculator.\n",
        "\n",
        "Complete Reflection Questions 6 and the deployment discussion.\n",
        "Deliverable: All answers typed directly in the notebook.\n",
        "\n",
        "Section 6 – Critical Analysis (Ethics and Limitations)\n",
        "Explore hallucination, bias, and environmental impact cells.\n",
        "\n",
        "Write your answers to the reflection questions on trust, fairness, and sustainability.\n",
        "Deliverable: Completed markdown answers and executed tests.\n",
        "\n",
        "Section 7 – Synthesis and Final Reflection\n",
        "Complete the final set of comprehensive questions on architecture selection, system design, and the future of VLMs.\n",
        "Deliverable: All final answers typed in the notebook"
      ]
    },
    {
      "cell_type": "code",
      "source": [
        "Enter a number: 18\n",
        "The sum of the first 18 natural numbers is 171\n"
      ],
      "metadata": {
        "id": "7enNkCDzxXRt"
      },
      "execution_count": null,
      "outputs": []
    }
  ]
}