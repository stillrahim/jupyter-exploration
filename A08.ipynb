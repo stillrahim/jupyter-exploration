{
  "nbformat": 4,
  "nbformat_minor": 0,
  "metadata": {
    "colab": {
      "provenance": [],
      "authorship_tag": "ABX9TyOScCalTQjT7CNzCrexYt0D",
      "include_colab_link": true
    },
    "kernelspec": {
      "name": "python3",
      "display_name": "Python 3"
    },
    "language_info": {
      "name": "python"
    }
  },
  "cells": [
    {
      "cell_type": "markdown",
      "metadata": {
        "id": "view-in-github",
        "colab_type": "text"
      },
      "source": [
        "<a href=\"https://colab.research.google.com/github/stillrahim/jupyter-exploration/blob/main/A08.ipynb\" target=\"_parent\"><img src=\"https://colab.research.google.com/assets/colab-badge.svg\" alt=\"Open In Colab\"/></a>"
      ]
    },
    {
      "cell_type": "code",
      "execution_count": null,
      "metadata": {
        "id": "9n5KFiLWV4cy"
      },
      "outputs": [],
      "source": [
        "# Install dependencies\n",
        "!pip install tensorflow tensorflow-hub tensorflow-datasets\n",
        "\n",
        "# Import libraries\n",
        "import tensorflow as tf\n",
        "import tensorflow_hub as hub\n",
        "import tensorflow_datasets as tfds\n",
        "import matplotlib.pyplot as plt\n",
        "import numpy as np\n"
      ]
    },
    {
      "cell_type": "code",
      "source": [
        "# Check if GPU or TPU is available\n",
        "if tf.test.gpu_device_name():\n",
        "    print('✅ GPU Available:', tf.test.gpu_device_name())\n",
        "else:\n",
        "    print('⚠️ No GPU found. Enable GPU under Runtime > Change runtime type > GPU.')\n",
        "\n",
        "if tf.config.list_physical_devices('TPU'):\n",
        "    print(\"✅ TPU is available\")\n",
        "else:\n",
        "    print(\"⚠️ TPU is not available\")\n"
      ],
      "metadata": {
        "id": "TDcAs0qtV8Ww"
      },
      "execution_count": null,
      "outputs": []
    },
    {
      "cell_type": "code",
      "source": [
        "# Load Pascal VOC 2007 dataset\n",
        "dataset, info = tfds.load('voc/2007', with_info=True, as_supervised=True)\n",
        "train_ds, test_ds = dataset['train'], dataset['test']\n",
        "\n",
        "print(\"Classes:\", info.features['labels'].names)\n",
        "print(\"Number of training examples:\", info.splits['train'].num_examples)\n",
        "print(\"Number of test examples:\", info.splits['test'].num_examples)\n"
      ],
      "metadata": {
        "id": "NOWGcAvnV_w9"
      },
      "execution_count": null,
      "outputs": []
    },
    {
      "cell_type": "code",
      "source": [
        "import matplotlib.pyplot as plt\n",
        "\n",
        "def show_sample(dataset):\n",
        "    for image, label in dataset.take(1):\n",
        "        plt.figure(figsize=(5, 5))\n",
        "        plt.imshow(image)\n",
        "        plt.title(\"Sample Image from Pascal VOC 2007\")\n",
        "        plt.axis('off')\n",
        "        plt.show()\n",
        "\n",
        "show_sample(train_ds)\n"
      ],
      "metadata": {
        "id": "8KCjgZCqWBaO"
      },
      "execution_count": null,
      "outputs": []
    },
    {
      "cell_type": "code",
      "source": [
        "# Load SSD MobileNetV2 from TensorFlow Hub (transfer learning)\n",
        "detector = hub.load(\"https://tfhub.dev/tensorflow/ssd_mobilenet_v2/2\")\n",
        "print(\"✅ Model Loaded Successfully!\")\n"
      ],
      "metadata": {
        "id": "DD8TpwQ0WD5Z"
      },
      "execution_count": null,
      "outputs": []
    },
    {
      "cell_type": "code",
      "source": [
        "def preprocess_image(image):\n",
        "    img = tf.image.convert_image_dtype(image, tf.float32)[tf.newaxis, ...]\n",
        "    return img\n",
        "\n",
        "# Example: take one image from test set\n",
        "for sample in test_ds.take(1):\n",
        "    image, label = sample\n",
        "    input_img = preprocess_image(image)\n"
      ],
      "metadata": {
        "id": "o4iMhMFdWFiB"
      },
      "execution_count": null,
      "outputs": []
    },
    {
      "cell_type": "code",
      "source": [
        "import matplotlib.patches as patches\n",
        "\n",
        "def visualize_detection(image, boxes, classes, scores, threshold=0.5):\n",
        "    fig, ax = plt.subplots(1, figsize=(10, 8))\n",
        "    ax.imshow(image)\n",
        "\n",
        "    for box, cls, score in zip(boxes[0], classes[0], scores[0]):\n",
        "        if score >= threshold:\n",
        "            ymin, xmin, ymax, xmax = box\n",
        "            rect = patches.Rectangle(\n",
        "                (xmin * image.shape[1], ymin * image.shape[0]),\n",
        "                (xmax - xmin) * image.shape[1],\n",
        "                (ymax - ymin) * image.shape[0],\n",
        "                linewidth=2, edgecolor='lime', facecolor='none'\n",
        "            )\n",
        "            ax.add_patch(rect)\n",
        "            ax.text(\n",
        "                xmin * image.shape[1], ymin * image.shape[0] - 10,\n",
        "                f'Class {int(cls)}: {score:.2f}', color='lime', fontsize=10\n",
        "            )\n",
        "\n",
        "    plt.title(\"Object Detection Results\")\n",
        "    plt.axis('off')\n",
        "    plt.show()\n",
        "\n",
        "visualize_detection(image, detection_boxes, detection_classes, detection_scores)\n"
      ],
      "metadata": {
        "id": "l4Sk5qe1WHNZ"
      },
      "execution_count": null,
      "outputs": []
    },
    {
      "cell_type": "code",
      "source": [
        "model.save('/content/drive/MyDrive/object_detection_model')\n",
        "print(\"✅ Model saved successfully to Google Drive!\")\n"
      ],
      "metadata": {
        "id": "62yq69nBWJYy"
      },
      "execution_count": null,
      "outputs": []
    }
  ]
}